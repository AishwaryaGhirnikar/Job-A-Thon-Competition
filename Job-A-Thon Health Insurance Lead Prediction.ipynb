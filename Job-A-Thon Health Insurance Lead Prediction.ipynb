{
 "cells": [
  {
   "cell_type": "markdown",
   "metadata": {},
   "source": [
    "# Imports"
   ]
  },
  {
   "cell_type": "code",
   "execution_count": 1,
   "metadata": {},
   "outputs": [],
   "source": [
    "import pandas as pd\n",
    "import numpy as np\n",
    "from matplotlib import pyplot as plt\n",
    "import seaborn as sns\n",
    "import re\n",
    "from statistics import mode\n",
    "from sklearn.model_selection import train_test_split\n",
    "from sklearn.linear_model import LinearRegression, LogisticRegression\n",
    "from sklearn.preprocessing import StandardScaler, LabelEncoder, OneHotEncoder\n",
    "from sklearn.neighbors import KNeighborsClassifier\n",
    "from sklearn.metrics import accuracy_score\n",
    "from sklearn.svm import SVC\n",
    "from sklearn.naive_bayes import GaussianNB\n",
    "from sklearn.tree import DecisionTreeClassifier\n",
    "from sklearn.ensemble import RandomForestClassifier, BaggingClassifier, AdaBoostClassifier\n",
    "from sklearn.compose import ColumnTransformer\n",
    "from sklearn.model_selection import GridSearchCV\n"
   ]
  },
  {
   "cell_type": "markdown",
   "metadata": {},
   "source": [
    "# Loading of Data"
   ]
  },
  {
   "cell_type": "code",
   "execution_count": 2,
   "metadata": {},
   "outputs": [],
   "source": [
    "df_train = pd.read_csv(r\"D:\\MY DATA\\PYTHON DATA SCIENCE\\Projects\\Job-A-Thon(Health Insurance Prediction)\\train_Df64byy.csv\")\n",
    "df_test = pd.read_csv(r\"D:\\MY DATA\\PYTHON DATA SCIENCE\\Projects\\Job-A-Thon(Health Insurance Prediction)\\test_YCcRUnU.csv\")"
   ]
  },
  {
   "cell_type": "code",
   "execution_count": 3,
   "metadata": {},
   "outputs": [
    {
     "name": "stdout",
     "output_type": "stream",
     "text": [
      "(50882, 14) \n",
      "\n",
      "(21805, 13)\n"
     ]
    }
   ],
   "source": [
    "print(df_train.shape,'\\n')\n",
    "print(df_test.shape)"
   ]
  },
  {
   "cell_type": "code",
   "execution_count": 4,
   "metadata": {
    "scrolled": true
   },
   "outputs": [
    {
     "data": {
      "text/plain": [
       "<bound method DataFrame.info of           ID City_Code  Region_Code Accomodation_Type Reco_Insurance_Type  \\\n",
       "0          1        C3         3213            Rented          Individual   \n",
       "1          2        C5         1117             Owned               Joint   \n",
       "2          3        C5         3732             Owned          Individual   \n",
       "3          4       C24         4378             Owned               Joint   \n",
       "4          5        C8         2190            Rented          Individual   \n",
       "...      ...       ...          ...               ...                 ...   \n",
       "50877  50878        C4          845            Rented          Individual   \n",
       "50878  50879        C5         4188            Rented          Individual   \n",
       "50879  50880        C1          442            Rented          Individual   \n",
       "50880  50881        C1            4             Owned               Joint   \n",
       "50881  50882        C3         3866            Rented          Individual   \n",
       "\n",
       "       Upper_Age  Lower_Age Is_Spouse Health Indicator  \\\n",
       "0             36         36        No               X1   \n",
       "1             75         22        No               X2   \n",
       "2             32         32        No              NaN   \n",
       "3             52         48        No               X1   \n",
       "4             44         44        No               X2   \n",
       "...          ...        ...       ...              ...   \n",
       "50877         22         22        No               X3   \n",
       "50878         27         27        No               X3   \n",
       "50879         63         63        No               X2   \n",
       "50880         71         49        No               X2   \n",
       "50881         24         24        No               X3   \n",
       "\n",
       "      Holding_Policy_Duration  Holding_Policy_Type  Reco_Policy_Cat  \\\n",
       "0                         14+                  3.0               22   \n",
       "1                         NaN                  NaN               22   \n",
       "2                         1.0                  1.0               19   \n",
       "3                         14+                  3.0               19   \n",
       "4                         3.0                  1.0               16   \n",
       "...                       ...                  ...              ...   \n",
       "50877                     NaN                  NaN               18   \n",
       "50878                     7.0                  3.0                4   \n",
       "50879                     14+                  1.0               12   \n",
       "50880                     2.0                  2.0               16   \n",
       "50881                     2.0                  3.0               18   \n",
       "\n",
       "       Reco_Policy_Premium  Response  \n",
       "0                  11628.0         0  \n",
       "1                  30510.0         0  \n",
       "2                   7450.0         1  \n",
       "3                  17780.0         0  \n",
       "4                  10404.0         0  \n",
       "...                    ...       ...  \n",
       "50877               7704.0         0  \n",
       "50878               5408.0         0  \n",
       "50879              11374.0         0  \n",
       "50880              28179.2         1  \n",
       "50881              11424.0         0  \n",
       "\n",
       "[50882 rows x 14 columns]>"
      ]
     },
     "execution_count": 4,
     "metadata": {},
     "output_type": "execute_result"
    }
   ],
   "source": [
    "df_train.info"
   ]
  },
  {
   "cell_type": "code",
   "execution_count": 5,
   "metadata": {
    "scrolled": true
   },
   "outputs": [
    {
     "data": {
      "text/plain": [
       "<bound method DataFrame.info of           ID City_Code  Region_Code Accomodation_Type Reco_Insurance_Type  \\\n",
       "0      50883        C1          156             Owned          Individual   \n",
       "1      50884        C4            7             Owned               Joint   \n",
       "2      50885        C1          564            Rented          Individual   \n",
       "3      50886        C3         1177            Rented          Individual   \n",
       "4      50887        C1          951             Owned          Individual   \n",
       "...      ...       ...          ...               ...                 ...   \n",
       "21800  72683        C3         1044             Owned          Individual   \n",
       "21801  72684        C4          266             Owned          Individual   \n",
       "21802  72685       C12         2470             Owned          Individual   \n",
       "21803  72686       C10         1676            Rented          Individual   \n",
       "21804  72687        C2         3617             Owned          Individual   \n",
       "\n",
       "       Upper_Age  Lower_Age Is_Spouse Health Indicator  \\\n",
       "0             30         30        No              NaN   \n",
       "1             69         68       Yes               X1   \n",
       "2             28         28        No               X3   \n",
       "3             23         23        No               X3   \n",
       "4             75         75        No               X3   \n",
       "...          ...        ...       ...              ...   \n",
       "21800         45         45        No               X1   \n",
       "21801         59         59        No               X5   \n",
       "21802         74         74        No               X3   \n",
       "21803         25         25        No               X4   \n",
       "21804         73         73        No               X2   \n",
       "\n",
       "      Holding_Policy_Duration  Holding_Policy_Type  Reco_Policy_Cat  \\\n",
       "0                         6.0                  3.0                5   \n",
       "1                         3.0                  3.0               18   \n",
       "2                         2.0                  4.0               17   \n",
       "3                         3.0                  3.0               18   \n",
       "4                         NaN                  NaN                5   \n",
       "...                       ...                  ...              ...   \n",
       "21800                     4.0                  1.0               18   \n",
       "21801                     6.0                  3.0               18   \n",
       "21802                     NaN                  NaN                1   \n",
       "21803                     3.0                  1.0               19   \n",
       "21804                     14+                  2.0                3   \n",
       "\n",
       "       Reco_Policy_Premium  \n",
       "0                  11934.0  \n",
       "1                  32204.8  \n",
       "2                   9240.0  \n",
       "3                   9086.0  \n",
       "4                  22534.0  \n",
       "...                    ...  \n",
       "21800              15884.0  \n",
       "21801              21390.0  \n",
       "21802              17836.0  \n",
       "21803              11568.0  \n",
       "21804              23040.0  \n",
       "\n",
       "[21805 rows x 13 columns]>"
      ]
     },
     "execution_count": 5,
     "metadata": {},
     "output_type": "execute_result"
    }
   ],
   "source": [
    "df_test.info"
   ]
  },
  {
   "cell_type": "code",
   "execution_count": 6,
   "metadata": {
    "scrolled": false
   },
   "outputs": [
    {
     "data": {
      "text/html": [
       "<div>\n",
       "<style scoped>\n",
       "    .dataframe tbody tr th:only-of-type {\n",
       "        vertical-align: middle;\n",
       "    }\n",
       "\n",
       "    .dataframe tbody tr th {\n",
       "        vertical-align: top;\n",
       "    }\n",
       "\n",
       "    .dataframe thead th {\n",
       "        text-align: right;\n",
       "    }\n",
       "</style>\n",
       "<table border=\"1\" class=\"dataframe\">\n",
       "  <thead>\n",
       "    <tr style=\"text-align: right;\">\n",
       "      <th></th>\n",
       "      <th>ID</th>\n",
       "      <th>Region_Code</th>\n",
       "      <th>Upper_Age</th>\n",
       "      <th>Lower_Age</th>\n",
       "      <th>Holding_Policy_Type</th>\n",
       "      <th>Reco_Policy_Cat</th>\n",
       "      <th>Reco_Policy_Premium</th>\n",
       "      <th>Response</th>\n",
       "    </tr>\n",
       "  </thead>\n",
       "  <tbody>\n",
       "    <tr>\n",
       "      <td>count</td>\n",
       "      <td>50882.000000</td>\n",
       "      <td>50882.000000</td>\n",
       "      <td>50882.000000</td>\n",
       "      <td>50882.000000</td>\n",
       "      <td>30631.000000</td>\n",
       "      <td>50882.000000</td>\n",
       "      <td>50882.000000</td>\n",
       "      <td>50882.000000</td>\n",
       "    </tr>\n",
       "    <tr>\n",
       "      <td>mean</td>\n",
       "      <td>25441.500000</td>\n",
       "      <td>1732.788707</td>\n",
       "      <td>44.856275</td>\n",
       "      <td>42.738866</td>\n",
       "      <td>2.439228</td>\n",
       "      <td>15.115188</td>\n",
       "      <td>14183.950069</td>\n",
       "      <td>0.239947</td>\n",
       "    </tr>\n",
       "    <tr>\n",
       "      <td>std</td>\n",
       "      <td>14688.512535</td>\n",
       "      <td>1424.081652</td>\n",
       "      <td>17.310271</td>\n",
       "      <td>17.319375</td>\n",
       "      <td>1.025923</td>\n",
       "      <td>6.340663</td>\n",
       "      <td>6590.074873</td>\n",
       "      <td>0.427055</td>\n",
       "    </tr>\n",
       "    <tr>\n",
       "      <td>min</td>\n",
       "      <td>1.000000</td>\n",
       "      <td>1.000000</td>\n",
       "      <td>18.000000</td>\n",
       "      <td>16.000000</td>\n",
       "      <td>1.000000</td>\n",
       "      <td>1.000000</td>\n",
       "      <td>2280.000000</td>\n",
       "      <td>0.000000</td>\n",
       "    </tr>\n",
       "    <tr>\n",
       "      <td>25%</td>\n",
       "      <td>12721.250000</td>\n",
       "      <td>523.000000</td>\n",
       "      <td>28.000000</td>\n",
       "      <td>27.000000</td>\n",
       "      <td>1.000000</td>\n",
       "      <td>12.000000</td>\n",
       "      <td>9248.000000</td>\n",
       "      <td>0.000000</td>\n",
       "    </tr>\n",
       "    <tr>\n",
       "      <td>50%</td>\n",
       "      <td>25441.500000</td>\n",
       "      <td>1391.000000</td>\n",
       "      <td>44.000000</td>\n",
       "      <td>40.000000</td>\n",
       "      <td>3.000000</td>\n",
       "      <td>17.000000</td>\n",
       "      <td>13178.000000</td>\n",
       "      <td>0.000000</td>\n",
       "    </tr>\n",
       "    <tr>\n",
       "      <td>75%</td>\n",
       "      <td>38161.750000</td>\n",
       "      <td>2667.000000</td>\n",
       "      <td>59.000000</td>\n",
       "      <td>57.000000</td>\n",
       "      <td>3.000000</td>\n",
       "      <td>20.000000</td>\n",
       "      <td>18096.000000</td>\n",
       "      <td>0.000000</td>\n",
       "    </tr>\n",
       "    <tr>\n",
       "      <td>max</td>\n",
       "      <td>50882.000000</td>\n",
       "      <td>6194.000000</td>\n",
       "      <td>75.000000</td>\n",
       "      <td>75.000000</td>\n",
       "      <td>4.000000</td>\n",
       "      <td>22.000000</td>\n",
       "      <td>43350.400000</td>\n",
       "      <td>1.000000</td>\n",
       "    </tr>\n",
       "  </tbody>\n",
       "</table>\n",
       "</div>"
      ],
      "text/plain": [
       "                 ID   Region_Code     Upper_Age     Lower_Age  \\\n",
       "count  50882.000000  50882.000000  50882.000000  50882.000000   \n",
       "mean   25441.500000   1732.788707     44.856275     42.738866   \n",
       "std    14688.512535   1424.081652     17.310271     17.319375   \n",
       "min        1.000000      1.000000     18.000000     16.000000   \n",
       "25%    12721.250000    523.000000     28.000000     27.000000   \n",
       "50%    25441.500000   1391.000000     44.000000     40.000000   \n",
       "75%    38161.750000   2667.000000     59.000000     57.000000   \n",
       "max    50882.000000   6194.000000     75.000000     75.000000   \n",
       "\n",
       "       Holding_Policy_Type  Reco_Policy_Cat  Reco_Policy_Premium      Response  \n",
       "count         30631.000000     50882.000000         50882.000000  50882.000000  \n",
       "mean              2.439228        15.115188         14183.950069      0.239947  \n",
       "std               1.025923         6.340663          6590.074873      0.427055  \n",
       "min               1.000000         1.000000          2280.000000      0.000000  \n",
       "25%               1.000000        12.000000          9248.000000      0.000000  \n",
       "50%               3.000000        17.000000         13178.000000      0.000000  \n",
       "75%               3.000000        20.000000         18096.000000      0.000000  \n",
       "max               4.000000        22.000000         43350.400000      1.000000  "
      ]
     },
     "execution_count": 6,
     "metadata": {},
     "output_type": "execute_result"
    }
   ],
   "source": [
    "df_train.describe()"
   ]
  },
  {
   "cell_type": "code",
   "execution_count": 7,
   "metadata": {},
   "outputs": [
    {
     "data": {
      "text/html": [
       "<div>\n",
       "<style scoped>\n",
       "    .dataframe tbody tr th:only-of-type {\n",
       "        vertical-align: middle;\n",
       "    }\n",
       "\n",
       "    .dataframe tbody tr th {\n",
       "        vertical-align: top;\n",
       "    }\n",
       "\n",
       "    .dataframe thead th {\n",
       "        text-align: right;\n",
       "    }\n",
       "</style>\n",
       "<table border=\"1\" class=\"dataframe\">\n",
       "  <thead>\n",
       "    <tr style=\"text-align: right;\">\n",
       "      <th></th>\n",
       "      <th>ID</th>\n",
       "      <th>Region_Code</th>\n",
       "      <th>Upper_Age</th>\n",
       "      <th>Lower_Age</th>\n",
       "      <th>Holding_Policy_Type</th>\n",
       "      <th>Reco_Policy_Cat</th>\n",
       "      <th>Reco_Policy_Premium</th>\n",
       "    </tr>\n",
       "  </thead>\n",
       "  <tbody>\n",
       "    <tr>\n",
       "      <td>count</td>\n",
       "      <td>21805.000000</td>\n",
       "      <td>21805.000000</td>\n",
       "      <td>21805.000000</td>\n",
       "      <td>21805.000000</td>\n",
       "      <td>13202.000000</td>\n",
       "      <td>21805.000000</td>\n",
       "      <td>21805.000000</td>\n",
       "    </tr>\n",
       "    <tr>\n",
       "      <td>mean</td>\n",
       "      <td>61785.000000</td>\n",
       "      <td>1748.737491</td>\n",
       "      <td>44.877734</td>\n",
       "      <td>42.748085</td>\n",
       "      <td>2.440085</td>\n",
       "      <td>15.138363</td>\n",
       "      <td>14220.306581</td>\n",
       "    </tr>\n",
       "    <tr>\n",
       "      <td>std</td>\n",
       "      <td>6294.705646</td>\n",
       "      <td>1438.358949</td>\n",
       "      <td>17.254898</td>\n",
       "      <td>17.269112</td>\n",
       "      <td>1.037627</td>\n",
       "      <td>6.302805</td>\n",
       "      <td>6497.996164</td>\n",
       "    </tr>\n",
       "    <tr>\n",
       "      <td>min</td>\n",
       "      <td>50883.000000</td>\n",
       "      <td>1.000000</td>\n",
       "      <td>18.000000</td>\n",
       "      <td>16.000000</td>\n",
       "      <td>1.000000</td>\n",
       "      <td>1.000000</td>\n",
       "      <td>2152.000000</td>\n",
       "    </tr>\n",
       "    <tr>\n",
       "      <td>25%</td>\n",
       "      <td>56334.000000</td>\n",
       "      <td>535.000000</td>\n",
       "      <td>28.000000</td>\n",
       "      <td>27.000000</td>\n",
       "      <td>1.000000</td>\n",
       "      <td>12.000000</td>\n",
       "      <td>9285.000000</td>\n",
       "    </tr>\n",
       "    <tr>\n",
       "      <td>50%</td>\n",
       "      <td>61785.000000</td>\n",
       "      <td>1392.000000</td>\n",
       "      <td>44.000000</td>\n",
       "      <td>41.000000</td>\n",
       "      <td>3.000000</td>\n",
       "      <td>17.000000</td>\n",
       "      <td>13244.000000</td>\n",
       "    </tr>\n",
       "    <tr>\n",
       "      <td>75%</td>\n",
       "      <td>67236.000000</td>\n",
       "      <td>2712.000000</td>\n",
       "      <td>59.000000</td>\n",
       "      <td>57.000000</td>\n",
       "      <td>3.000000</td>\n",
       "      <td>20.000000</td>\n",
       "      <td>18201.600000</td>\n",
       "    </tr>\n",
       "    <tr>\n",
       "      <td>max</td>\n",
       "      <td>72687.000000</td>\n",
       "      <td>6185.000000</td>\n",
       "      <td>75.000000</td>\n",
       "      <td>75.000000</td>\n",
       "      <td>4.000000</td>\n",
       "      <td>22.000000</td>\n",
       "      <td>43776.000000</td>\n",
       "    </tr>\n",
       "  </tbody>\n",
       "</table>\n",
       "</div>"
      ],
      "text/plain": [
       "                 ID   Region_Code     Upper_Age     Lower_Age  \\\n",
       "count  21805.000000  21805.000000  21805.000000  21805.000000   \n",
       "mean   61785.000000   1748.737491     44.877734     42.748085   \n",
       "std     6294.705646   1438.358949     17.254898     17.269112   \n",
       "min    50883.000000      1.000000     18.000000     16.000000   \n",
       "25%    56334.000000    535.000000     28.000000     27.000000   \n",
       "50%    61785.000000   1392.000000     44.000000     41.000000   \n",
       "75%    67236.000000   2712.000000     59.000000     57.000000   \n",
       "max    72687.000000   6185.000000     75.000000     75.000000   \n",
       "\n",
       "       Holding_Policy_Type  Reco_Policy_Cat  Reco_Policy_Premium  \n",
       "count         13202.000000     21805.000000         21805.000000  \n",
       "mean              2.440085        15.138363         14220.306581  \n",
       "std               1.037627         6.302805          6497.996164  \n",
       "min               1.000000         1.000000          2152.000000  \n",
       "25%               1.000000        12.000000          9285.000000  \n",
       "50%               3.000000        17.000000         13244.000000  \n",
       "75%               3.000000        20.000000         18201.600000  \n",
       "max               4.000000        22.000000         43776.000000  "
      ]
     },
     "execution_count": 7,
     "metadata": {},
     "output_type": "execute_result"
    }
   ],
   "source": [
    "df_test.describe()"
   ]
  },
  {
   "cell_type": "code",
   "execution_count": 8,
   "metadata": {
    "scrolled": false
   },
   "outputs": [
    {
     "name": "stdout",
     "output_type": "stream",
     "text": [
      "   ID City_Code  Region_Code Accomodation_Type Reco_Insurance_Type  Upper_Age  \\\n",
      "0   1        C3         3213            Rented          Individual         36   \n",
      "1   2        C5         1117             Owned               Joint         75   \n",
      "2   3        C5         3732             Owned          Individual         32   \n",
      "3   4       C24         4378             Owned               Joint         52   \n",
      "4   5        C8         2190            Rented          Individual         44   \n",
      "\n",
      "   Lower_Age Is_Spouse Health Indicator Holding_Policy_Duration  \\\n",
      "0         36        No               X1                     14+   \n",
      "1         22        No               X2                     NaN   \n",
      "2         32        No              NaN                     1.0   \n",
      "3         48        No               X1                     14+   \n",
      "4         44        No               X2                     3.0   \n",
      "\n",
      "   Holding_Policy_Type  Reco_Policy_Cat  Reco_Policy_Premium  Response  \n",
      "0                  3.0               22              11628.0         0  \n",
      "1                  NaN               22              30510.0         0  \n",
      "2                  1.0               19               7450.0         1  \n",
      "3                  3.0               19              17780.0         0  \n",
      "4                  1.0               16              10404.0         0  \n"
     ]
    }
   ],
   "source": [
    "print(df_train.head())"
   ]
  },
  {
   "cell_type": "code",
   "execution_count": 9,
   "metadata": {
    "scrolled": false
   },
   "outputs": [
    {
     "name": "stdout",
     "output_type": "stream",
     "text": [
      "      ID City_Code  Region_Code Accomodation_Type Reco_Insurance_Type  \\\n",
      "0  50883        C1          156             Owned          Individual   \n",
      "1  50884        C4            7             Owned               Joint   \n",
      "2  50885        C1          564            Rented          Individual   \n",
      "3  50886        C3         1177            Rented          Individual   \n",
      "4  50887        C1          951             Owned          Individual   \n",
      "\n",
      "   Upper_Age  Lower_Age Is_Spouse Health Indicator Holding_Policy_Duration  \\\n",
      "0         30         30        No              NaN                     6.0   \n",
      "1         69         68       Yes               X1                     3.0   \n",
      "2         28         28        No               X3                     2.0   \n",
      "3         23         23        No               X3                     3.0   \n",
      "4         75         75        No               X3                     NaN   \n",
      "\n",
      "   Holding_Policy_Type  Reco_Policy_Cat  Reco_Policy_Premium  \n",
      "0                  3.0                5              11934.0  \n",
      "1                  3.0               18              32204.8  \n",
      "2                  4.0               17               9240.0  \n",
      "3                  3.0               18               9086.0  \n",
      "4                  NaN                5              22534.0  \n"
     ]
    }
   ],
   "source": [
    "print(df_test.head())"
   ]
  },
  {
   "cell_type": "code",
   "execution_count": 10,
   "metadata": {},
   "outputs": [
    {
     "name": "stdout",
     "output_type": "stream",
     "text": [
      "The number of samples into the train data is 50882.\n",
      "The number of samples into the test data is 21805.\n"
     ]
    }
   ],
   "source": [
    "#Samples of train and test data\n",
    "print('The number of samples into the train data is {}.'.format(df_train.shape[0]))\n",
    "print('The number of samples into the test data is {}.'.format(df_test.shape[0]))"
   ]
  },
  {
   "cell_type": "code",
   "execution_count": 11,
   "metadata": {},
   "outputs": [],
   "source": [
    "# Set target value\n",
    "target='Response'"
   ]
  },
  {
   "cell_type": "code",
   "execution_count": 12,
   "metadata": {},
   "outputs": [],
   "source": [
    "#remove 'ID' column from train data\n",
    "df_train.drop(['ID'], inplace=True, axis=1)"
   ]
  },
  {
   "cell_type": "code",
   "execution_count": 13,
   "metadata": {},
   "outputs": [
    {
     "name": "stdout",
     "output_type": "stream",
     "text": [
      "(50882, 13)\n",
      "(50882, 13)\n"
     ]
    }
   ],
   "source": [
    "#check for duplicates if any\n",
    "print(df_train.shape)\n",
    "df_train.drop_duplicates(inplace=True)\n",
    "print(df_train.shape)"
   ]
  },
  {
   "cell_type": "markdown",
   "metadata": {},
   "source": [
    "# Find missing values"
   ]
  },
  {
   "cell_type": "code",
   "execution_count": 14,
   "metadata": {},
   "outputs": [
    {
     "data": {
      "text/plain": [
       "City_Code                      0\n",
       "Region_Code                    0\n",
       "Accomodation_Type              0\n",
       "Reco_Insurance_Type            0\n",
       "Upper_Age                      0\n",
       "Lower_Age                      0\n",
       "Is_Spouse                      0\n",
       "Health Indicator           11691\n",
       "Holding_Policy_Duration    20251\n",
       "Holding_Policy_Type        20251\n",
       "Reco_Policy_Cat                0\n",
       "Reco_Policy_Premium            0\n",
       "Response                       0\n",
       "dtype: int64"
      ]
     },
     "execution_count": 14,
     "metadata": {},
     "output_type": "execute_result"
    }
   ],
   "source": [
    "df_train.isnull().sum()"
   ]
  },
  {
   "cell_type": "code",
   "execution_count": 15,
   "metadata": {},
   "outputs": [
    {
     "data": {
      "text/plain": [
       "ID                            0\n",
       "City_Code                     0\n",
       "Region_Code                   0\n",
       "Accomodation_Type             0\n",
       "Reco_Insurance_Type           0\n",
       "Upper_Age                     0\n",
       "Lower_Age                     0\n",
       "Is_Spouse                     0\n",
       "Health Indicator           5027\n",
       "Holding_Policy_Duration    8603\n",
       "Holding_Policy_Type        8603\n",
       "Reco_Policy_Cat               0\n",
       "Reco_Policy_Premium           0\n",
       "dtype: int64"
      ]
     },
     "execution_count": 15,
     "metadata": {},
     "output_type": "execute_result"
    }
   ],
   "source": [
    "df_test.isnull().sum()"
   ]
  },
  {
   "cell_type": "code",
   "execution_count": 16,
   "metadata": {},
   "outputs": [],
   "source": [
    "df_train.rename(columns = {'Health Indicator': \"Health_Indicator\"}, inplace = True)\n",
    "df_test.rename(columns = {'Health Indicator': \"Health_Indicator\"}, inplace = True)"
   ]
  },
  {
   "cell_type": "code",
   "execution_count": 17,
   "metadata": {},
   "outputs": [
    {
     "name": "stdout",
     "output_type": "stream",
     "text": [
      "Index(['Region_Code', 'Upper_Age', 'Lower_Age', 'Holding_Policy_Type',\n",
      "       'Reco_Policy_Cat', 'Reco_Policy_Premium', 'Response'],\n",
      "      dtype='object') \n",
      "\n",
      "Index(['City_Code', 'Accomodation_Type', 'Reco_Insurance_Type', 'Is_Spouse',\n",
      "       'Health_Indicator', 'Holding_Policy_Duration'],\n",
      "      dtype='object')\n"
     ]
    }
   ],
   "source": [
    "numerical_feats = df_train.dtypes[df_train.dtypes != \"object\"].index\n",
    "print(df_train[numerical_feats].columns,'\\n')\n",
    "categorical_feats = df_train.dtypes[df_train.dtypes == \"object\"].index\n",
    "print(df_train[categorical_feats].columns)"
   ]
  },
  {
   "cell_type": "code",
   "execution_count": 18,
   "metadata": {},
   "outputs": [
    {
     "data": {
      "text/plain": [
       "X1    13010\n",
       "X2    10332\n",
       "X3     6762\n",
       "X4     5743\n",
       "X5     1727\n",
       "X6     1280\n",
       "X7      196\n",
       "X8       78\n",
       "X9       63\n",
       "Name: Health_Indicator, dtype: int64"
      ]
     },
     "execution_count": 18,
     "metadata": {},
     "output_type": "execute_result"
    }
   ],
   "source": [
    "df_train.Health_Indicator.value_counts()"
   ]
  },
  {
   "cell_type": "code",
   "execution_count": 19,
   "metadata": {},
   "outputs": [
    {
     "data": {
      "text/plain": [
       "X1    5614\n",
       "X2    4516\n",
       "X3    2846\n",
       "X4    2442\n",
       "X5     681\n",
       "X6     514\n",
       "X7      96\n",
       "X8      41\n",
       "X9      28\n",
       "Name: Health_Indicator, dtype: int64"
      ]
     },
     "execution_count": 19,
     "metadata": {},
     "output_type": "execute_result"
    }
   ],
   "source": [
    "df_test.Health_Indicator.value_counts()"
   ]
  },
  {
   "cell_type": "code",
   "execution_count": 20,
   "metadata": {
    "scrolled": true
   },
   "outputs": [
    {
     "data": {
      "text/plain": [
       "1.0     4499\n",
       "14+     4335\n",
       "2.0     4260\n",
       "3.0     3586\n",
       "4.0     2771\n",
       "5.0     2362\n",
       "6.0     1894\n",
       "7.0     1645\n",
       "8.0     1316\n",
       "9.0     1114\n",
       "10.0     813\n",
       "11.0     546\n",
       "12.0     513\n",
       "13.0     511\n",
       "14.0     466\n",
       "Name: Holding_Policy_Duration, dtype: int64"
      ]
     },
     "execution_count": 20,
     "metadata": {},
     "output_type": "execute_result"
    }
   ],
   "source": [
    "df_train.Holding_Policy_Duration.value_counts()"
   ]
  },
  {
   "cell_type": "code",
   "execution_count": 21,
   "metadata": {},
   "outputs": [
    {
     "data": {
      "text/plain": [
       "14+     1892\n",
       "1.0     1891\n",
       "2.0     1772\n",
       "3.0     1606\n",
       "4.0     1205\n",
       "5.0      992\n",
       "6.0      903\n",
       "7.0      664\n",
       "8.0      569\n",
       "9.0      493\n",
       "10.0     333\n",
       "11.0     254\n",
       "13.0     221\n",
       "14.0     211\n",
       "12.0     196\n",
       "Name: Holding_Policy_Duration, dtype: int64"
      ]
     },
     "execution_count": 21,
     "metadata": {},
     "output_type": "execute_result"
    }
   ],
   "source": [
    "df_test.Holding_Policy_Duration.value_counts()"
   ]
  },
  {
   "cell_type": "code",
   "execution_count": 22,
   "metadata": {},
   "outputs": [
    {
     "name": "stdout",
     "output_type": "stream",
     "text": [
      "The mode of Health_Indicator for df_train 0    X1\n",
      "dtype: object\n",
      "The mode of Health_Indicator for df_test 0    X1\n",
      "dtype: object\n"
     ]
    }
   ],
   "source": [
    "print('The mode of Health_Indicator for df_train', df_train[\"Health_Indicator\"].mode())\n",
    "print('The mode of Health_Indicator for df_test',df_test[\"Health_Indicator\"].mode())"
   ]
  },
  {
   "cell_type": "code",
   "execution_count": 23,
   "metadata": {},
   "outputs": [
    {
     "name": "stdout",
     "output_type": "stream",
     "text": [
      "The mode of Holding_Policy_Duration for df_train 0    1.0\n",
      "dtype: object\n",
      "The mode of Holding_Policy_Duration for df_test 0    14+\n",
      "dtype: object\n"
     ]
    }
   ],
   "source": [
    "print('The mode of Holding_Policy_Duration for df_train', df_train[\"Holding_Policy_Duration\"].mode())\n",
    "print('The mode of Holding_Policy_Duration for df_test',df_test[\"Holding_Policy_Duration\"].mode())"
   ]
  },
  {
   "cell_type": "code",
   "execution_count": 24,
   "metadata": {},
   "outputs": [
    {
     "data": {
      "text/plain": [
       "[Text(0.5, 0, 'Holding_Policy_Type')]"
      ]
     },
     "execution_count": 24,
     "metadata": {},
     "output_type": "execute_result"
    },
    {
     "data": {
      "image/png": "[encoded data removed]",
      "text/plain": [
       "<Figure size 432x288 with 1 Axes>"
      ]
     },
     "metadata": {
      "needs_background": "light"
     },
     "output_type": "display_data"
    }
   ],
   "source": [
    "ax = df_train[\"Holding_Policy_Type\"].hist(bins=40, density=True, stacked=True, color='teal', alpha=0.6)\n",
    "df_train[\"Holding_Policy_Type\"].plot(kind='density', color='teal')\n",
    "ax.set(xlabel='Holding_Policy_Type')"
   ]
  },
  {
   "cell_type": "code",
   "execution_count": 25,
   "metadata": {},
   "outputs": [
    {
     "name": "stdout",
     "output_type": "stream",
     "text": [
      "The median of \"Holding_Policy_Type for df_train\" is 2.44\n",
      "The median of \"Holding_Policy_Type for df_test\" is 2.44\n"
     ]
    }
   ],
   "source": [
    "print('The median of \"Holding_Policy_Type for df_train\" is %.2f' %(df_train[\"Holding_Policy_Type\"].mean()))\n",
    "print('The median of \"Holding_Policy_Type for df_test\" is %.2f' %(df_test[\"Holding_Policy_Type\"].mean()))"
   ]
  },
  {
   "cell_type": "markdown",
   "metadata": {},
   "source": [
    "# Fill missing values"
   ]
  },
  {
   "cell_type": "code",
   "execution_count": 26,
   "metadata": {},
   "outputs": [],
   "source": [
    "df_train[\"Health_Indicator\"].fillna(mode(df_train[\"Health_Indicator\"]), inplace=True)\n",
    "df_test[\"Health_Indicator\"].fillna(mode(df_test[\"Health_Indicator\"]), inplace=True)"
   ]
  },
  {
   "cell_type": "code",
   "execution_count": 27,
   "metadata": {},
   "outputs": [],
   "source": [
    "df_train[\"Holding_Policy_Duration\"].fillna(df_train[\"Holding_Policy_Type\"].median(skipna=True), inplace=True)\n",
    "df_test[\"Holding_Policy_Duration\"].fillna(df_test[\"Holding_Policy_Type\"].median(skipna=True), inplace=True)"
   ]
  },
  {
   "cell_type": "code",
   "execution_count": 28,
   "metadata": {},
   "outputs": [],
   "source": [
    "df_train[\"Holding_Policy_Type\"].fillna(df_train[\"Holding_Policy_Type\"].median(skipna=True), inplace=True)\n",
    "df_test[\"Holding_Policy_Type\"].fillna(df_test[\"Holding_Policy_Type\"].median(skipna=True), inplace=True)"
   ]
  },
  {
   "cell_type": "code",
   "execution_count": 29,
   "metadata": {},
   "outputs": [
    {
     "data": {
      "text/plain": [
       "City_Code                  0\n",
       "Region_Code                0\n",
       "Accomodation_Type          0\n",
       "Reco_Insurance_Type        0\n",
       "Upper_Age                  0\n",
       "Lower_Age                  0\n",
       "Is_Spouse                  0\n",
       "Health_Indicator           0\n",
       "Holding_Policy_Duration    0\n",
       "Holding_Policy_Type        0\n",
       "Reco_Policy_Cat            0\n",
       "Reco_Policy_Premium        0\n",
       "Response                   0\n",
       "dtype: int64"
      ]
     },
     "execution_count": 29,
     "metadata": {},
     "output_type": "execute_result"
    }
   ],
   "source": [
    "df_train.isnull().sum()"
   ]
  },
  {
   "cell_type": "code",
   "execution_count": 30,
   "metadata": {},
   "outputs": [
    {
     "data": {
      "text/plain": [
       "ID                         0\n",
       "City_Code                  0\n",
       "Region_Code                0\n",
       "Accomodation_Type          0\n",
       "Reco_Insurance_Type        0\n",
       "Upper_Age                  0\n",
       "Lower_Age                  0\n",
       "Is_Spouse                  0\n",
       "Health_Indicator           0\n",
       "Holding_Policy_Duration    0\n",
       "Holding_Policy_Type        0\n",
       "Reco_Policy_Cat            0\n",
       "Reco_Policy_Premium        0\n",
       "dtype: int64"
      ]
     },
     "execution_count": 30,
     "metadata": {},
     "output_type": "execute_result"
    }
   ],
   "source": [
    "df_test.isnull().sum()"
   ]
  },
  {
   "cell_type": "markdown",
   "metadata": {},
   "source": [
    "# Exploratory Data Analysis(EDA)"
   ]
  },
  {
   "cell_type": "code",
   "execution_count": 31,
   "metadata": {},
   "outputs": [
    {
     "data": {
      "image/png": "[encoded data removed]",
      "text/plain": [
       "<Figure size 432x288 with 1 Axes>"
      ]
     },
     "metadata": {
      "needs_background": "light"
     },
     "output_type": "display_data"
    }
   ],
   "source": [
    "# check target feature distribution\n",
    "df_train[target].hist()\n",
    "plt.show()"
   ]
  },
  {
   "cell_type": "code",
   "execution_count": 32,
   "metadata": {},
   "outputs": [
    {
     "name": "stdout",
     "output_type": "stream",
     "text": [
      "Index(['Region_Code', 'Upper_Age', 'Lower_Age', 'Holding_Policy_Type',\n",
      "       'Reco_Policy_Cat', 'Reco_Policy_Premium', 'Response'],\n",
      "      dtype='object') \n",
      "\n",
      "Index(['City_Code', 'Accomodation_Type', 'Reco_Insurance_Type', 'Is_Spouse',\n",
      "       'Health_Indicator', 'Holding_Policy_Duration'],\n",
      "      dtype='object')\n"
     ]
    }
   ],
   "source": [
    "#Find numerical and categorical features\n",
    "numerical_feats = df_train.dtypes[df_train.dtypes != \"object\"].index\n",
    "categorical_feats = df_train.dtypes[df_train.dtypes == \"object\"].index\n",
    "print(df_train[numerical_feats].columns,'\\n')\n",
    "print(df_train[categorical_feats].columns)"
   ]
  },
  {
   "cell_type": "code",
   "execution_count": 33,
   "metadata": {
    "scrolled": true
   },
   "outputs": [
    {
     "data": {
      "image/png": "[encoded data removed]",
      "text/plain": [
       "<Figure size 216x216 with 1 Axes>"
      ]
     },
     "metadata": {
      "needs_background": "light"
     },
     "output_type": "display_data"
    },
    {
     "data": {
      "image/png": "[encoded data removed]",
      "text/plain": [
       "<Figure size 432x288 with 1 Axes>"
      ]
     },
     "metadata": {
      "needs_background": "light"
     },
     "output_type": "display_data"
    },
    {
     "data": {
      "image/png": "[encoded data removed]",
      "text/plain": [
       "<Figure size 432x288 with 1 Axes>"
      ]
     },
     "metadata": {
      "needs_background": "light"
     },
     "output_type": "display_data"
    },
    {
     "data": {
      "image/png": "[encoded data removed]",
      "text/plain": [
       "<Figure size 432x288 with 1 Axes>"
      ]
     },
     "metadata": {
      "needs_background": "light"
     },
     "output_type": "display_data"
    },
    {
     "data": {
      "image/png": "[encoded data removed]",
      "text/plain": [
       "<Figure size 432x288 with 1 Axes>"
      ]
     },
     "metadata": {
      "needs_background": "light"
     },
     "output_type": "display_data"
    },
    {
     "data": {
      "image/png": "[encoded data removed]",
      "text/plain": [
       "<Figure size 432x288 with 1 Axes>"
      ]
     },
     "metadata": {
      "needs_background": "light"
     },
     "output_type": "display_data"
    },
    {
     "data": {
      "image/png": "[encoded data removed]",
      "text/plain": [
       "<Figure size 432x288 with 1 Axes>"
      ]
     },
     "metadata": {
      "needs_background": "light"
     },
     "output_type": "display_data"
    }
   ],
   "source": [
    "#Outlier detection\n",
    "fig = plt.figure(figsize=(3,3))\n",
    "for num in numerical_feats:\n",
    "    box = df_train[num].plot(kind='box')\n",
    "    plt.show()"
   ]
  },
  {
   "cell_type": "code",
   "execution_count": 34,
   "metadata": {},
   "outputs": [
    {
     "data": {
      "image/png": "[encoded data removed]",
      "text/plain": [
       "<Figure size 432x288 with 2 Axes>"
      ]
     },
     "metadata": {
      "needs_background": "light"
     },
     "output_type": "display_data"
    }
   ],
   "source": [
    "# correlation heatmap for all features\n",
    "corr = df_train.corr()\n",
    "mask = np.zeros_like(corr, dtype=np.bool)\n",
    "mask[np.triu_indices_from(mask)] = True\n",
    "sns.heatmap(corr, mask = mask, annot=True)\n",
    "plt.show()"
   ]
  },
  {
   "cell_type": "code",
   "execution_count": 35,
   "metadata": {},
   "outputs": [
    {
     "name": "stdout",
     "output_type": "stream",
     "text": [
      "Region_Code            Skewness: 00.80     Kurtosis: -00.20\n",
      "Upper_Age              Skewness: 00.22     Kurtosis: -01.23\n",
      "Lower_Age              Skewness: 00.33     Kurtosis: -01.17\n",
      "Holding_Policy_Type    Skewness: -0.91     Kurtosis: 000.02\n",
      "Reco_Policy_Cat        Skewness: -0.93     Kurtosis: -00.31\n",
      "Reco_Policy_Premium    Skewness: 00.78     Kurtosis: 000.42\n",
      "Response               Skewness: 01.22     Kurtosis: -00.52\n"
     ]
    }
   ],
   "source": [
    "#Skewness and Kurtosis\n",
    "for col in numerical_feats:\n",
    "    print('{:22}'.format(col),  \n",
    "          'Skewness: {:05.2f}'.format(df_train[col].skew()), \n",
    "          '   ' ,\n",
    "          'Kurtosis: {:06.2f}'.format(df_train[col].kurt())  \n",
    "         )"
   ]
  },
  {
   "cell_type": "code",
   "execution_count": 36,
   "metadata": {
    "scrolled": true
   },
   "outputs": [
    {
     "name": "stdout",
     "output_type": "stream",
     "text": [
      "count     50882\n",
      "unique       36\n",
      "top          C1\n",
      "freq       8973\n",
      "Name: City_Code, dtype: object\n",
      "\n",
      "\n",
      "count    50882.000000\n",
      "mean      1732.788707\n",
      "std       1424.081652\n",
      "min          1.000000\n",
      "25%        523.000000\n",
      "50%       1391.000000\n",
      "75%       2667.000000\n",
      "max       6194.000000\n",
      "Name: Region_Code, dtype: float64\n",
      "\n",
      "\n",
      "count     50882\n",
      "unique        2\n",
      "top       Owned\n",
      "freq      27951\n",
      "Name: Accomodation_Type, dtype: object\n",
      "\n",
      "\n",
      "count          50882\n",
      "unique             2\n",
      "top       Individual\n",
      "freq           40536\n",
      "Name: Reco_Insurance_Type, dtype: object\n",
      "\n",
      "\n",
      "count    50882.000000\n",
      "mean        44.856275\n",
      "std         17.310271\n",
      "min         18.000000\n",
      "25%         28.000000\n",
      "50%         44.000000\n",
      "75%         59.000000\n",
      "max         75.000000\n",
      "Name: Upper_Age, dtype: float64\n",
      "\n",
      "\n",
      "count    50882.000000\n",
      "mean        42.738866\n",
      "std         17.319375\n",
      "min         16.000000\n",
      "25%         27.000000\n",
      "50%         40.000000\n",
      "75%         57.000000\n",
      "max         75.000000\n",
      "Name: Lower_Age, dtype: float64\n",
      "\n",
      "\n",
      "count     50882\n",
      "unique        2\n",
      "top          No\n",
      "freq      42460\n",
      "Name: Is_Spouse, dtype: object\n",
      "\n",
      "\n",
      "count     50882\n",
      "unique        9\n",
      "top          X1\n",
      "freq      24701\n",
      "Name: Health_Indicator, dtype: object\n",
      "\n",
      "\n",
      "count     50882.0\n",
      "unique       16.0\n",
      "top           3.0\n",
      "freq      20251.0\n",
      "Name: Holding_Policy_Duration, dtype: float64\n",
      "\n",
      "\n",
      "count    50882.000000\n",
      "mean         2.662415\n",
      "std          0.841994\n",
      "min          1.000000\n",
      "25%          2.000000\n",
      "50%          3.000000\n",
      "75%          3.000000\n",
      "max          4.000000\n",
      "Name: Holding_Policy_Type, dtype: float64\n",
      "\n",
      "\n",
      "count    50882.000000\n",
      "mean        15.115188\n",
      "std          6.340663\n",
      "min          1.000000\n",
      "25%         12.000000\n",
      "50%         17.000000\n",
      "75%         20.000000\n",
      "max         22.000000\n",
      "Name: Reco_Policy_Cat, dtype: float64\n",
      "\n",
      "\n",
      "count    50882.000000\n",
      "mean     14183.950069\n",
      "std       6590.074873\n",
      "min       2280.000000\n",
      "25%       9248.000000\n",
      "50%      13178.000000\n",
      "75%      18096.000000\n",
      "max      43350.400000\n",
      "Name: Reco_Policy_Premium, dtype: float64\n",
      "\n",
      "\n",
      "count    50882.000000\n",
      "mean         0.239947\n",
      "std          0.427055\n",
      "min          0.000000\n",
      "25%          0.000000\n",
      "50%          0.000000\n",
      "75%          0.000000\n",
      "max          1.000000\n",
      "Name: Response, dtype: float64\n",
      "\n",
      "\n"
     ]
    }
   ],
   "source": [
    "#Description of each variable\n",
    "for i in df_train:\n",
    "    print(df_train[i].describe())\n",
    "    print('\\n')"
   ]
  },
  {
   "cell_type": "markdown",
   "metadata": {},
   "source": [
    "# Encoding of categorical data"
   ]
  },
  {
   "cell_type": "code",
   "execution_count": 37,
   "metadata": {},
   "outputs": [
    {
     "data": {
      "text/plain": [
       "Index(['City_Code', 'Accomodation_Type', 'Reco_Insurance_Type', 'Is_Spouse',\n",
       "       'Health_Indicator', 'Holding_Policy_Duration'],\n",
       "      dtype='object')"
      ]
     },
     "execution_count": 37,
     "metadata": {},
     "output_type": "execute_result"
    }
   ],
   "source": [
    "categorical_feats"
   ]
  },
  {
   "cell_type": "markdown",
   "metadata": {},
   "source": [
    "1) Encoding of train dataset"
   ]
  },
  {
   "cell_type": "code",
   "execution_count": 38,
   "metadata": {},
   "outputs": [],
   "source": [
    "df_train['Holding_Policy_Duration'] = pd.to_numeric(df_train['Holding_Policy_Duration'].map(lambda x:'15' if x == '14+' else x))"
   ]
  },
  {
   "cell_type": "code",
   "execution_count": 39,
   "metadata": {},
   "outputs": [],
   "source": [
    "#Label Encoding\n",
    "label_encoder = LabelEncoder()\n",
    "for i in df_train[categorical_feats].columns:\n",
    "    df_train[i] = label_encoder.fit_transform(df_train[i])"
   ]
  },
  {
   "cell_type": "code",
   "execution_count": 40,
   "metadata": {},
   "outputs": [
    {
     "data": {
      "text/plain": [
       "array([22, 31, 16, 34, 35,  0,  6, 20, 19, 33, 12, 17, 30, 11, 27,  1,  8,\n",
       "        9,  7, 21, 26, 18, 10, 32,  3,  4,  2,  5, 14, 15, 13, 29, 25, 23,\n",
       "       28, 24], dtype=int64)"
      ]
     },
     "execution_count": 40,
     "metadata": {},
     "output_type": "execute_result"
    }
   ],
   "source": [
    "df_train['City_Code'].unique()"
   ]
  },
  {
   "cell_type": "code",
   "execution_count": 41,
   "metadata": {},
   "outputs": [
    {
     "data": {
      "text/plain": [
       "array([0, 1, 3, 2, 5, 4, 7, 6, 8], dtype=int64)"
      ]
     },
     "execution_count": 41,
     "metadata": {},
     "output_type": "execute_result"
    }
   ],
   "source": [
    "df_train['Health_Indicator'].unique()"
   ]
  },
  {
   "cell_type": "code",
   "execution_count": 42,
   "metadata": {},
   "outputs": [],
   "source": [
    "city_code = pd.get_dummies(df_train['City_Code'], prefix = 'City_Code')\n",
    "df_train = df_train.join(city_code)\n",
    "del df_train['City_Code']"
   ]
  },
  {
   "cell_type": "code",
   "execution_count": 43,
   "metadata": {},
   "outputs": [],
   "source": [
    "health_indicator = pd.get_dummies(df_train['Health_Indicator'], prefix = 'Health_Indicator')\n",
    "df_train = df_train.join(health_indicator)\n",
    "del df_train['Health_Indicator']"
   ]
  },
  {
   "cell_type": "code",
   "execution_count": 44,
   "metadata": {},
   "outputs": [
    {
     "data": {
      "text/html": [
       "<div>\n",
       "<style scoped>\n",
       "    .dataframe tbody tr th:only-of-type {\n",
       "        vertical-align: middle;\n",
       "    }\n",
       "\n",
       "    .dataframe tbody tr th {\n",
       "        vertical-align: top;\n",
       "    }\n",
       "\n",
       "    .dataframe thead th {\n",
       "        text-align: right;\n",
       "    }\n",
       "</style>\n",
       "<table border=\"1\" class=\"dataframe\">\n",
       "  <thead>\n",
       "    <tr style=\"text-align: right;\">\n",
       "      <th></th>\n",
       "      <th>Region_Code</th>\n",
       "      <th>Accomodation_Type</th>\n",
       "      <th>Reco_Insurance_Type</th>\n",
       "      <th>Upper_Age</th>\n",
       "      <th>Lower_Age</th>\n",
       "      <th>Is_Spouse</th>\n",
       "      <th>Holding_Policy_Duration</th>\n",
       "      <th>Holding_Policy_Type</th>\n",
       "      <th>Reco_Policy_Cat</th>\n",
       "      <th>Reco_Policy_Premium</th>\n",
       "      <th>...</th>\n",
       "      <th>City_Code_35</th>\n",
       "      <th>Health_Indicator_0</th>\n",
       "      <th>Health_Indicator_1</th>\n",
       "      <th>Health_Indicator_2</th>\n",
       "      <th>Health_Indicator_3</th>\n",
       "      <th>Health_Indicator_4</th>\n",
       "      <th>Health_Indicator_5</th>\n",
       "      <th>Health_Indicator_6</th>\n",
       "      <th>Health_Indicator_7</th>\n",
       "      <th>Health_Indicator_8</th>\n",
       "    </tr>\n",
       "  </thead>\n",
       "  <tbody>\n",
       "    <tr>\n",
       "      <td>0</td>\n",
       "      <td>3213</td>\n",
       "      <td>1</td>\n",
       "      <td>0</td>\n",
       "      <td>36</td>\n",
       "      <td>36</td>\n",
       "      <td>0</td>\n",
       "      <td>14</td>\n",
       "      <td>3.0</td>\n",
       "      <td>22</td>\n",
       "      <td>11628.0</td>\n",
       "      <td>...</td>\n",
       "      <td>0</td>\n",
       "      <td>1</td>\n",
       "      <td>0</td>\n",
       "      <td>0</td>\n",
       "      <td>0</td>\n",
       "      <td>0</td>\n",
       "      <td>0</td>\n",
       "      <td>0</td>\n",
       "      <td>0</td>\n",
       "      <td>0</td>\n",
       "    </tr>\n",
       "    <tr>\n",
       "      <td>1</td>\n",
       "      <td>1117</td>\n",
       "      <td>0</td>\n",
       "      <td>1</td>\n",
       "      <td>75</td>\n",
       "      <td>22</td>\n",
       "      <td>0</td>\n",
       "      <td>2</td>\n",
       "      <td>3.0</td>\n",
       "      <td>22</td>\n",
       "      <td>30510.0</td>\n",
       "      <td>...</td>\n",
       "      <td>0</td>\n",
       "      <td>0</td>\n",
       "      <td>1</td>\n",
       "      <td>0</td>\n",
       "      <td>0</td>\n",
       "      <td>0</td>\n",
       "      <td>0</td>\n",
       "      <td>0</td>\n",
       "      <td>0</td>\n",
       "      <td>0</td>\n",
       "    </tr>\n",
       "    <tr>\n",
       "      <td>2</td>\n",
       "      <td>3732</td>\n",
       "      <td>0</td>\n",
       "      <td>0</td>\n",
       "      <td>32</td>\n",
       "      <td>32</td>\n",
       "      <td>0</td>\n",
       "      <td>0</td>\n",
       "      <td>1.0</td>\n",
       "      <td>19</td>\n",
       "      <td>7450.0</td>\n",
       "      <td>...</td>\n",
       "      <td>0</td>\n",
       "      <td>1</td>\n",
       "      <td>0</td>\n",
       "      <td>0</td>\n",
       "      <td>0</td>\n",
       "      <td>0</td>\n",
       "      <td>0</td>\n",
       "      <td>0</td>\n",
       "      <td>0</td>\n",
       "      <td>0</td>\n",
       "    </tr>\n",
       "    <tr>\n",
       "      <td>3</td>\n",
       "      <td>4378</td>\n",
       "      <td>0</td>\n",
       "      <td>1</td>\n",
       "      <td>52</td>\n",
       "      <td>48</td>\n",
       "      <td>0</td>\n",
       "      <td>14</td>\n",
       "      <td>3.0</td>\n",
       "      <td>19</td>\n",
       "      <td>17780.0</td>\n",
       "      <td>...</td>\n",
       "      <td>0</td>\n",
       "      <td>1</td>\n",
       "      <td>0</td>\n",
       "      <td>0</td>\n",
       "      <td>0</td>\n",
       "      <td>0</td>\n",
       "      <td>0</td>\n",
       "      <td>0</td>\n",
       "      <td>0</td>\n",
       "      <td>0</td>\n",
       "    </tr>\n",
       "    <tr>\n",
       "      <td>4</td>\n",
       "      <td>2190</td>\n",
       "      <td>1</td>\n",
       "      <td>0</td>\n",
       "      <td>44</td>\n",
       "      <td>44</td>\n",
       "      <td>0</td>\n",
       "      <td>2</td>\n",
       "      <td>1.0</td>\n",
       "      <td>16</td>\n",
       "      <td>10404.0</td>\n",
       "      <td>...</td>\n",
       "      <td>0</td>\n",
       "      <td>0</td>\n",
       "      <td>1</td>\n",
       "      <td>0</td>\n",
       "      <td>0</td>\n",
       "      <td>0</td>\n",
       "      <td>0</td>\n",
       "      <td>0</td>\n",
       "      <td>0</td>\n",
       "      <td>0</td>\n",
       "    </tr>\n",
       "    <tr>\n",
       "      <td>...</td>\n",
       "      <td>...</td>\n",
       "      <td>...</td>\n",
       "      <td>...</td>\n",
       "      <td>...</td>\n",
       "      <td>...</td>\n",
       "      <td>...</td>\n",
       "      <td>...</td>\n",
       "      <td>...</td>\n",
       "      <td>...</td>\n",
       "      <td>...</td>\n",
       "      <td>...</td>\n",
       "      <td>...</td>\n",
       "      <td>...</td>\n",
       "      <td>...</td>\n",
       "      <td>...</td>\n",
       "      <td>...</td>\n",
       "      <td>...</td>\n",
       "      <td>...</td>\n",
       "      <td>...</td>\n",
       "      <td>...</td>\n",
       "      <td>...</td>\n",
       "    </tr>\n",
       "    <tr>\n",
       "      <td>50877</td>\n",
       "      <td>845</td>\n",
       "      <td>1</td>\n",
       "      <td>0</td>\n",
       "      <td>22</td>\n",
       "      <td>22</td>\n",
       "      <td>0</td>\n",
       "      <td>2</td>\n",
       "      <td>3.0</td>\n",
       "      <td>18</td>\n",
       "      <td>7704.0</td>\n",
       "      <td>...</td>\n",
       "      <td>0</td>\n",
       "      <td>0</td>\n",
       "      <td>0</td>\n",
       "      <td>1</td>\n",
       "      <td>0</td>\n",
       "      <td>0</td>\n",
       "      <td>0</td>\n",
       "      <td>0</td>\n",
       "      <td>0</td>\n",
       "      <td>0</td>\n",
       "    </tr>\n",
       "    <tr>\n",
       "      <td>50878</td>\n",
       "      <td>4188</td>\n",
       "      <td>1</td>\n",
       "      <td>0</td>\n",
       "      <td>27</td>\n",
       "      <td>27</td>\n",
       "      <td>0</td>\n",
       "      <td>6</td>\n",
       "      <td>3.0</td>\n",
       "      <td>4</td>\n",
       "      <td>5408.0</td>\n",
       "      <td>...</td>\n",
       "      <td>0</td>\n",
       "      <td>0</td>\n",
       "      <td>0</td>\n",
       "      <td>1</td>\n",
       "      <td>0</td>\n",
       "      <td>0</td>\n",
       "      <td>0</td>\n",
       "      <td>0</td>\n",
       "      <td>0</td>\n",
       "      <td>0</td>\n",
       "    </tr>\n",
       "    <tr>\n",
       "      <td>50879</td>\n",
       "      <td>442</td>\n",
       "      <td>1</td>\n",
       "      <td>0</td>\n",
       "      <td>63</td>\n",
       "      <td>63</td>\n",
       "      <td>0</td>\n",
       "      <td>14</td>\n",
       "      <td>1.0</td>\n",
       "      <td>12</td>\n",
       "      <td>11374.0</td>\n",
       "      <td>...</td>\n",
       "      <td>0</td>\n",
       "      <td>0</td>\n",
       "      <td>1</td>\n",
       "      <td>0</td>\n",
       "      <td>0</td>\n",
       "      <td>0</td>\n",
       "      <td>0</td>\n",
       "      <td>0</td>\n",
       "      <td>0</td>\n",
       "      <td>0</td>\n",
       "    </tr>\n",
       "    <tr>\n",
       "      <td>50880</td>\n",
       "      <td>4</td>\n",
       "      <td>0</td>\n",
       "      <td>1</td>\n",
       "      <td>71</td>\n",
       "      <td>49</td>\n",
       "      <td>0</td>\n",
       "      <td>1</td>\n",
       "      <td>2.0</td>\n",
       "      <td>16</td>\n",
       "      <td>28179.2</td>\n",
       "      <td>...</td>\n",
       "      <td>0</td>\n",
       "      <td>0</td>\n",
       "      <td>1</td>\n",
       "      <td>0</td>\n",
       "      <td>0</td>\n",
       "      <td>0</td>\n",
       "      <td>0</td>\n",
       "      <td>0</td>\n",
       "      <td>0</td>\n",
       "      <td>0</td>\n",
       "    </tr>\n",
       "    <tr>\n",
       "      <td>50881</td>\n",
       "      <td>3866</td>\n",
       "      <td>1</td>\n",
       "      <td>0</td>\n",
       "      <td>24</td>\n",
       "      <td>24</td>\n",
       "      <td>0</td>\n",
       "      <td>1</td>\n",
       "      <td>3.0</td>\n",
       "      <td>18</td>\n",
       "      <td>11424.0</td>\n",
       "      <td>...</td>\n",
       "      <td>0</td>\n",
       "      <td>0</td>\n",
       "      <td>0</td>\n",
       "      <td>1</td>\n",
       "      <td>0</td>\n",
       "      <td>0</td>\n",
       "      <td>0</td>\n",
       "      <td>0</td>\n",
       "      <td>0</td>\n",
       "      <td>0</td>\n",
       "    </tr>\n",
       "  </tbody>\n",
       "</table>\n",
       "<p>50882 rows × 56 columns</p>\n",
       "</div>"
      ],
      "text/plain": [
       "       Region_Code  Accomodation_Type  Reco_Insurance_Type  Upper_Age  \\\n",
       "0             3213                  1                    0         36   \n",
       "1             1117                  0                    1         75   \n",
       "2             3732                  0                    0         32   \n",
       "3             4378                  0                    1         52   \n",
       "4             2190                  1                    0         44   \n",
       "...            ...                ...                  ...        ...   \n",
       "50877          845                  1                    0         22   \n",
       "50878         4188                  1                    0         27   \n",
       "50879          442                  1                    0         63   \n",
       "50880            4                  0                    1         71   \n",
       "50881         3866                  1                    0         24   \n",
       "\n",
       "       Lower_Age  Is_Spouse  Holding_Policy_Duration  Holding_Policy_Type  \\\n",
       "0             36          0                       14                  3.0   \n",
       "1             22          0                        2                  3.0   \n",
       "2             32          0                        0                  1.0   \n",
       "3             48          0                       14                  3.0   \n",
       "4             44          0                        2                  1.0   \n",
       "...          ...        ...                      ...                  ...   \n",
       "50877         22          0                        2                  3.0   \n",
       "50878         27          0                        6                  3.0   \n",
       "50879         63          0                       14                  1.0   \n",
       "50880         49          0                        1                  2.0   \n",
       "50881         24          0                        1                  3.0   \n",
       "\n",
       "       Reco_Policy_Cat  Reco_Policy_Premium  ...  City_Code_35  \\\n",
       "0                   22              11628.0  ...             0   \n",
       "1                   22              30510.0  ...             0   \n",
       "2                   19               7450.0  ...             0   \n",
       "3                   19              17780.0  ...             0   \n",
       "4                   16              10404.0  ...             0   \n",
       "...                ...                  ...  ...           ...   \n",
       "50877               18               7704.0  ...             0   \n",
       "50878                4               5408.0  ...             0   \n",
       "50879               12              11374.0  ...             0   \n",
       "50880               16              28179.2  ...             0   \n",
       "50881               18              11424.0  ...             0   \n",
       "\n",
       "       Health_Indicator_0  Health_Indicator_1  Health_Indicator_2  \\\n",
       "0                       1                   0                   0   \n",
       "1                       0                   1                   0   \n",
       "2                       1                   0                   0   \n",
       "3                       1                   0                   0   \n",
       "4                       0                   1                   0   \n",
       "...                   ...                 ...                 ...   \n",
       "50877                   0                   0                   1   \n",
       "50878                   0                   0                   1   \n",
       "50879                   0                   1                   0   \n",
       "50880                   0                   1                   0   \n",
       "50881                   0                   0                   1   \n",
       "\n",
       "       Health_Indicator_3  Health_Indicator_4  Health_Indicator_5  \\\n",
       "0                       0                   0                   0   \n",
       "1                       0                   0                   0   \n",
       "2                       0                   0                   0   \n",
       "3                       0                   0                   0   \n",
       "4                       0                   0                   0   \n",
       "...                   ...                 ...                 ...   \n",
       "50877                   0                   0                   0   \n",
       "50878                   0                   0                   0   \n",
       "50879                   0                   0                   0   \n",
       "50880                   0                   0                   0   \n",
       "50881                   0                   0                   0   \n",
       "\n",
       "       Health_Indicator_6  Health_Indicator_7  Health_Indicator_8  \n",
       "0                       0                   0                   0  \n",
       "1                       0                   0                   0  \n",
       "2                       0                   0                   0  \n",
       "3                       0                   0                   0  \n",
       "4                       0                   0                   0  \n",
       "...                   ...                 ...                 ...  \n",
       "50877                   0                   0                   0  \n",
       "50878                   0                   0                   0  \n",
       "50879                   0                   0                   0  \n",
       "50880                   0                   0                   0  \n",
       "50881                   0                   0                   0  \n",
       "\n",
       "[50882 rows x 56 columns]"
      ]
     },
     "execution_count": 44,
     "metadata": {},
     "output_type": "execute_result"
    }
   ],
   "source": [
    "df_train"
   ]
  },
  {
   "cell_type": "markdown",
   "metadata": {},
   "source": [
    "2) Encoding of test dataset"
   ]
  },
  {
   "cell_type": "code",
   "execution_count": 45,
   "metadata": {},
   "outputs": [],
   "source": [
    "numerical_feats = df_test.dtypes[df_test.dtypes != \"object\"].index\n",
    "categorical_feats = df_test.dtypes[df_test.dtypes == \"object\"].index"
   ]
  },
  {
   "cell_type": "code",
   "execution_count": 46,
   "metadata": {},
   "outputs": [],
   "source": [
    "df_test['Holding_Policy_Duration'] = pd.to_numeric(df_test['Holding_Policy_Duration'].map(lambda x:'15' if x == '14+' else x))"
   ]
  },
  {
   "cell_type": "code",
   "execution_count": 47,
   "metadata": {},
   "outputs": [],
   "source": [
    "#Label Encoding\n",
    "label_encoder = LabelEncoder()\n",
    "for i in df_test[categorical_feats].columns:\n",
    "    df_test[i] = label_encoder.fit_transform(df_test[i])"
   ]
  },
  {
   "cell_type": "code",
   "execution_count": 48,
   "metadata": {},
   "outputs": [],
   "source": [
    "city_code = pd.get_dummies(df_test['City_Code'], prefix = 'City_Code')\n",
    "df_test = df_test.join(city_code)\n",
    "del df_test['City_Code']"
   ]
  },
  {
   "cell_type": "code",
   "execution_count": 49,
   "metadata": {},
   "outputs": [],
   "source": [
    "health_indicator = pd.get_dummies(df_test['Health_Indicator'], prefix = 'Health_Indicator')\n",
    "df_test = df_test.join(health_indicator)\n",
    "del df_test['Health_Indicator']"
   ]
  },
  {
   "cell_type": "code",
   "execution_count": 50,
   "metadata": {},
   "outputs": [
    {
     "data": {
      "text/html": [
       "<div>\n",
       "<style scoped>\n",
       "    .dataframe tbody tr th:only-of-type {\n",
       "        vertical-align: middle;\n",
       "    }\n",
       "\n",
       "    .dataframe tbody tr th {\n",
       "        vertical-align: top;\n",
       "    }\n",
       "\n",
       "    .dataframe thead th {\n",
       "        text-align: right;\n",
       "    }\n",
       "</style>\n",
       "<table border=\"1\" class=\"dataframe\">\n",
       "  <thead>\n",
       "    <tr style=\"text-align: right;\">\n",
       "      <th></th>\n",
       "      <th>ID</th>\n",
       "      <th>Region_Code</th>\n",
       "      <th>Accomodation_Type</th>\n",
       "      <th>Reco_Insurance_Type</th>\n",
       "      <th>Upper_Age</th>\n",
       "      <th>Lower_Age</th>\n",
       "      <th>Is_Spouse</th>\n",
       "      <th>Holding_Policy_Duration</th>\n",
       "      <th>Holding_Policy_Type</th>\n",
       "      <th>Reco_Policy_Cat</th>\n",
       "      <th>...</th>\n",
       "      <th>City_Code_35</th>\n",
       "      <th>Health_Indicator_0</th>\n",
       "      <th>Health_Indicator_1</th>\n",
       "      <th>Health_Indicator_2</th>\n",
       "      <th>Health_Indicator_3</th>\n",
       "      <th>Health_Indicator_4</th>\n",
       "      <th>Health_Indicator_5</th>\n",
       "      <th>Health_Indicator_6</th>\n",
       "      <th>Health_Indicator_7</th>\n",
       "      <th>Health_Indicator_8</th>\n",
       "    </tr>\n",
       "  </thead>\n",
       "  <tbody>\n",
       "    <tr>\n",
       "      <td>0</td>\n",
       "      <td>50883</td>\n",
       "      <td>156</td>\n",
       "      <td>0</td>\n",
       "      <td>0</td>\n",
       "      <td>30</td>\n",
       "      <td>30</td>\n",
       "      <td>0</td>\n",
       "      <td>5</td>\n",
       "      <td>3.0</td>\n",
       "      <td>5</td>\n",
       "      <td>...</td>\n",
       "      <td>0</td>\n",
       "      <td>1</td>\n",
       "      <td>0</td>\n",
       "      <td>0</td>\n",
       "      <td>0</td>\n",
       "      <td>0</td>\n",
       "      <td>0</td>\n",
       "      <td>0</td>\n",
       "      <td>0</td>\n",
       "      <td>0</td>\n",
       "    </tr>\n",
       "    <tr>\n",
       "      <td>1</td>\n",
       "      <td>50884</td>\n",
       "      <td>7</td>\n",
       "      <td>0</td>\n",
       "      <td>1</td>\n",
       "      <td>69</td>\n",
       "      <td>68</td>\n",
       "      <td>1</td>\n",
       "      <td>2</td>\n",
       "      <td>3.0</td>\n",
       "      <td>18</td>\n",
       "      <td>...</td>\n",
       "      <td>0</td>\n",
       "      <td>1</td>\n",
       "      <td>0</td>\n",
       "      <td>0</td>\n",
       "      <td>0</td>\n",
       "      <td>0</td>\n",
       "      <td>0</td>\n",
       "      <td>0</td>\n",
       "      <td>0</td>\n",
       "      <td>0</td>\n",
       "    </tr>\n",
       "    <tr>\n",
       "      <td>2</td>\n",
       "      <td>50885</td>\n",
       "      <td>564</td>\n",
       "      <td>1</td>\n",
       "      <td>0</td>\n",
       "      <td>28</td>\n",
       "      <td>28</td>\n",
       "      <td>0</td>\n",
       "      <td>1</td>\n",
       "      <td>4.0</td>\n",
       "      <td>17</td>\n",
       "      <td>...</td>\n",
       "      <td>0</td>\n",
       "      <td>0</td>\n",
       "      <td>0</td>\n",
       "      <td>1</td>\n",
       "      <td>0</td>\n",
       "      <td>0</td>\n",
       "      <td>0</td>\n",
       "      <td>0</td>\n",
       "      <td>0</td>\n",
       "      <td>0</td>\n",
       "    </tr>\n",
       "    <tr>\n",
       "      <td>3</td>\n",
       "      <td>50886</td>\n",
       "      <td>1177</td>\n",
       "      <td>1</td>\n",
       "      <td>0</td>\n",
       "      <td>23</td>\n",
       "      <td>23</td>\n",
       "      <td>0</td>\n",
       "      <td>2</td>\n",
       "      <td>3.0</td>\n",
       "      <td>18</td>\n",
       "      <td>...</td>\n",
       "      <td>0</td>\n",
       "      <td>0</td>\n",
       "      <td>0</td>\n",
       "      <td>1</td>\n",
       "      <td>0</td>\n",
       "      <td>0</td>\n",
       "      <td>0</td>\n",
       "      <td>0</td>\n",
       "      <td>0</td>\n",
       "      <td>0</td>\n",
       "    </tr>\n",
       "    <tr>\n",
       "      <td>4</td>\n",
       "      <td>50887</td>\n",
       "      <td>951</td>\n",
       "      <td>0</td>\n",
       "      <td>0</td>\n",
       "      <td>75</td>\n",
       "      <td>75</td>\n",
       "      <td>0</td>\n",
       "      <td>2</td>\n",
       "      <td>3.0</td>\n",
       "      <td>5</td>\n",
       "      <td>...</td>\n",
       "      <td>0</td>\n",
       "      <td>0</td>\n",
       "      <td>0</td>\n",
       "      <td>1</td>\n",
       "      <td>0</td>\n",
       "      <td>0</td>\n",
       "      <td>0</td>\n",
       "      <td>0</td>\n",
       "      <td>0</td>\n",
       "      <td>0</td>\n",
       "    </tr>\n",
       "    <tr>\n",
       "      <td>...</td>\n",
       "      <td>...</td>\n",
       "      <td>...</td>\n",
       "      <td>...</td>\n",
       "      <td>...</td>\n",
       "      <td>...</td>\n",
       "      <td>...</td>\n",
       "      <td>...</td>\n",
       "      <td>...</td>\n",
       "      <td>...</td>\n",
       "      <td>...</td>\n",
       "      <td>...</td>\n",
       "      <td>...</td>\n",
       "      <td>...</td>\n",
       "      <td>...</td>\n",
       "      <td>...</td>\n",
       "      <td>...</td>\n",
       "      <td>...</td>\n",
       "      <td>...</td>\n",
       "      <td>...</td>\n",
       "      <td>...</td>\n",
       "      <td>...</td>\n",
       "    </tr>\n",
       "    <tr>\n",
       "      <td>21800</td>\n",
       "      <td>72683</td>\n",
       "      <td>1044</td>\n",
       "      <td>0</td>\n",
       "      <td>0</td>\n",
       "      <td>45</td>\n",
       "      <td>45</td>\n",
       "      <td>0</td>\n",
       "      <td>3</td>\n",
       "      <td>1.0</td>\n",
       "      <td>18</td>\n",
       "      <td>...</td>\n",
       "      <td>0</td>\n",
       "      <td>1</td>\n",
       "      <td>0</td>\n",
       "      <td>0</td>\n",
       "      <td>0</td>\n",
       "      <td>0</td>\n",
       "      <td>0</td>\n",
       "      <td>0</td>\n",
       "      <td>0</td>\n",
       "      <td>0</td>\n",
       "    </tr>\n",
       "    <tr>\n",
       "      <td>21801</td>\n",
       "      <td>72684</td>\n",
       "      <td>266</td>\n",
       "      <td>0</td>\n",
       "      <td>0</td>\n",
       "      <td>59</td>\n",
       "      <td>59</td>\n",
       "      <td>0</td>\n",
       "      <td>5</td>\n",
       "      <td>3.0</td>\n",
       "      <td>18</td>\n",
       "      <td>...</td>\n",
       "      <td>0</td>\n",
       "      <td>0</td>\n",
       "      <td>0</td>\n",
       "      <td>0</td>\n",
       "      <td>0</td>\n",
       "      <td>1</td>\n",
       "      <td>0</td>\n",
       "      <td>0</td>\n",
       "      <td>0</td>\n",
       "      <td>0</td>\n",
       "    </tr>\n",
       "    <tr>\n",
       "      <td>21802</td>\n",
       "      <td>72685</td>\n",
       "      <td>2470</td>\n",
       "      <td>0</td>\n",
       "      <td>0</td>\n",
       "      <td>74</td>\n",
       "      <td>74</td>\n",
       "      <td>0</td>\n",
       "      <td>2</td>\n",
       "      <td>3.0</td>\n",
       "      <td>1</td>\n",
       "      <td>...</td>\n",
       "      <td>0</td>\n",
       "      <td>0</td>\n",
       "      <td>0</td>\n",
       "      <td>1</td>\n",
       "      <td>0</td>\n",
       "      <td>0</td>\n",
       "      <td>0</td>\n",
       "      <td>0</td>\n",
       "      <td>0</td>\n",
       "      <td>0</td>\n",
       "    </tr>\n",
       "    <tr>\n",
       "      <td>21803</td>\n",
       "      <td>72686</td>\n",
       "      <td>1676</td>\n",
       "      <td>1</td>\n",
       "      <td>0</td>\n",
       "      <td>25</td>\n",
       "      <td>25</td>\n",
       "      <td>0</td>\n",
       "      <td>2</td>\n",
       "      <td>1.0</td>\n",
       "      <td>19</td>\n",
       "      <td>...</td>\n",
       "      <td>0</td>\n",
       "      <td>0</td>\n",
       "      <td>0</td>\n",
       "      <td>0</td>\n",
       "      <td>1</td>\n",
       "      <td>0</td>\n",
       "      <td>0</td>\n",
       "      <td>0</td>\n",
       "      <td>0</td>\n",
       "      <td>0</td>\n",
       "    </tr>\n",
       "    <tr>\n",
       "      <td>21804</td>\n",
       "      <td>72687</td>\n",
       "      <td>3617</td>\n",
       "      <td>0</td>\n",
       "      <td>0</td>\n",
       "      <td>73</td>\n",
       "      <td>73</td>\n",
       "      <td>0</td>\n",
       "      <td>14</td>\n",
       "      <td>2.0</td>\n",
       "      <td>3</td>\n",
       "      <td>...</td>\n",
       "      <td>0</td>\n",
       "      <td>0</td>\n",
       "      <td>1</td>\n",
       "      <td>0</td>\n",
       "      <td>0</td>\n",
       "      <td>0</td>\n",
       "      <td>0</td>\n",
       "      <td>0</td>\n",
       "      <td>0</td>\n",
       "      <td>0</td>\n",
       "    </tr>\n",
       "  </tbody>\n",
       "</table>\n",
       "<p>21805 rows × 56 columns</p>\n",
       "</div>"
      ],
      "text/plain": [
       "          ID  Region_Code  Accomodation_Type  Reco_Insurance_Type  Upper_Age  \\\n",
       "0      50883          156                  0                    0         30   \n",
       "1      50884            7                  0                    1         69   \n",
       "2      50885          564                  1                    0         28   \n",
       "3      50886         1177                  1                    0         23   \n",
       "4      50887          951                  0                    0         75   \n",
       "...      ...          ...                ...                  ...        ...   \n",
       "21800  72683         1044                  0                    0         45   \n",
       "21801  72684          266                  0                    0         59   \n",
       "21802  72685         2470                  0                    0         74   \n",
       "21803  72686         1676                  1                    0         25   \n",
       "21804  72687         3617                  0                    0         73   \n",
       "\n",
       "       Lower_Age  Is_Spouse  Holding_Policy_Duration  Holding_Policy_Type  \\\n",
       "0             30          0                        5                  3.0   \n",
       "1             68          1                        2                  3.0   \n",
       "2             28          0                        1                  4.0   \n",
       "3             23          0                        2                  3.0   \n",
       "4             75          0                        2                  3.0   \n",
       "...          ...        ...                      ...                  ...   \n",
       "21800         45          0                        3                  1.0   \n",
       "21801         59          0                        5                  3.0   \n",
       "21802         74          0                        2                  3.0   \n",
       "21803         25          0                        2                  1.0   \n",
       "21804         73          0                       14                  2.0   \n",
       "\n",
       "       Reco_Policy_Cat  ...  City_Code_35  Health_Indicator_0  \\\n",
       "0                    5  ...             0                   1   \n",
       "1                   18  ...             0                   1   \n",
       "2                   17  ...             0                   0   \n",
       "3                   18  ...             0                   0   \n",
       "4                    5  ...             0                   0   \n",
       "...                ...  ...           ...                 ...   \n",
       "21800               18  ...             0                   1   \n",
       "21801               18  ...             0                   0   \n",
       "21802                1  ...             0                   0   \n",
       "21803               19  ...             0                   0   \n",
       "21804                3  ...             0                   0   \n",
       "\n",
       "       Health_Indicator_1  Health_Indicator_2  Health_Indicator_3  \\\n",
       "0                       0                   0                   0   \n",
       "1                       0                   0                   0   \n",
       "2                       0                   1                   0   \n",
       "3                       0                   1                   0   \n",
       "4                       0                   1                   0   \n",
       "...                   ...                 ...                 ...   \n",
       "21800                   0                   0                   0   \n",
       "21801                   0                   0                   0   \n",
       "21802                   0                   1                   0   \n",
       "21803                   0                   0                   1   \n",
       "21804                   1                   0                   0   \n",
       "\n",
       "       Health_Indicator_4  Health_Indicator_5  Health_Indicator_6  \\\n",
       "0                       0                   0                   0   \n",
       "1                       0                   0                   0   \n",
       "2                       0                   0                   0   \n",
       "3                       0                   0                   0   \n",
       "4                       0                   0                   0   \n",
       "...                   ...                 ...                 ...   \n",
       "21800                   0                   0                   0   \n",
       "21801                   1                   0                   0   \n",
       "21802                   0                   0                   0   \n",
       "21803                   0                   0                   0   \n",
       "21804                   0                   0                   0   \n",
       "\n",
       "       Health_Indicator_7  Health_Indicator_8  \n",
       "0                       0                   0  \n",
       "1                       0                   0  \n",
       "2                       0                   0  \n",
       "3                       0                   0  \n",
       "4                       0                   0  \n",
       "...                   ...                 ...  \n",
       "21800                   0                   0  \n",
       "21801                   0                   0  \n",
       "21802                   0                   0  \n",
       "21803                   0                   0  \n",
       "21804                   0                   0  \n",
       "\n",
       "[21805 rows x 56 columns]"
      ]
     },
     "execution_count": 50,
     "metadata": {},
     "output_type": "execute_result"
    }
   ],
   "source": [
    "df_test"
   ]
  },
  {
   "cell_type": "markdown",
   "metadata": {},
   "source": [
    "# Training of model"
   ]
  },
  {
   "cell_type": "code",
   "execution_count": 51,
   "metadata": {},
   "outputs": [
    {
     "name": "stdout",
     "output_type": "stream",
     "text": [
      "Train set has 40705 records out of 50882 which is 80%\n",
      "Test set has 10177 records out of 50882 which is 20%\n"
     ]
    }
   ],
   "source": [
    "df = df_train.sample(frac=1, random_state=2).reset_index(drop=True)\n",
    "\n",
    "X = df\n",
    "y = df.pop(target)\n",
    "\n",
    "# split into train dev and test\n",
    "X_train, X_test, y_train, y_test = train_test_split(X, y, train_size=0.8, random_state=2)\n",
    "print(f\"Train set has {X_train.shape[0]} records out of {len(df)} which is {round(X_train.shape[0]/len(df)*100)}%\")\n",
    "print(f\"Test set has {X_test.shape[0]} records out of {len(df)} which is {round(X_test.shape[0]/len(df)*100)}%\")"
   ]
  },
  {
   "cell_type": "markdown",
   "metadata": {},
   "source": [
    "# Feature scaling"
   ]
  },
  {
   "cell_type": "code",
   "execution_count": 52,
   "metadata": {},
   "outputs": [],
   "source": [
    "sc = StandardScaler()\n",
    "X_train_scale = sc.fit_transform(X_train)\n",
    "X_test_scale = sc.transform(X_test)"
   ]
  },
  {
   "cell_type": "markdown",
   "metadata": {},
   "source": [
    "1) Logistic Regression "
   ]
  },
  {
   "cell_type": "code",
   "execution_count": 53,
   "metadata": {},
   "outputs": [
    {
     "name": "stdout",
     "output_type": "stream",
     "text": [
      "('Accuracy:', 0.7605384690969834)\n"
     ]
    }
   ],
   "source": [
    "logreg = LogisticRegression(max_iter=10000)\n",
    "logreg.fit(X_train_scale, y_train)\n",
    "y_pred = logreg.predict(X_test_scale)\n",
    "Logistic_Regression = (\"Accuracy:\",accuracy_score(y_test, y_pred))\n",
    "print(Logistic_Regression)"
   ]
  },
  {
   "cell_type": "markdown",
   "metadata": {},
   "source": [
    "2) K-Nearest Neighbour(KNN) Classifier"
   ]
  },
  {
   "cell_type": "code",
   "execution_count": 54,
   "metadata": {},
   "outputs": [
    {
     "name": "stdout",
     "output_type": "stream",
     "text": [
      "('Accuracy:', 0.7124889456617863)\n"
     ]
    }
   ],
   "source": [
    "knn = KNeighborsClassifier(n_neighbors = 5, metric = 'minkowski', p = 2)\n",
    "knn.fit(X_train_scale, y_train)\n",
    "y_pred = knn.predict(X_test_scale)\n",
    "KNN = (\"Accuracy:\",accuracy_score(y_test, y_pred))\n",
    "print(KNN)"
   ]
  },
  {
   "cell_type": "markdown",
   "metadata": {},
   "source": [
    "3) Support Vector Machine(SVM)"
   ]
  },
  {
   "cell_type": "code",
   "execution_count": 55,
   "metadata": {},
   "outputs": [
    {
     "name": "stdout",
     "output_type": "stream",
     "text": [
      "('Accuracy:', 0.7605384690969834)\n"
     ]
    }
   ],
   "source": [
    "svc_lin = SVC(kernel = 'linear', random_state = 0)\n",
    "svc_lin.fit(X_train_scale, y_train)\n",
    "y_pred = svc_lin.predict(X_test_scale)\n",
    "SVM = (\"Accuracy:\",(accuracy_score(y_test, y_pred)))\n",
    "print(SVM)"
   ]
  },
  {
   "cell_type": "markdown",
   "metadata": {},
   "source": [
    "4) Gausiian Naive Bayes"
   ]
  },
  {
   "cell_type": "code",
   "execution_count": 56,
   "metadata": {},
   "outputs": [
    {
     "name": "stdout",
     "output_type": "stream",
     "text": [
      "('Accuracy:', 0.7098359044905178)\n"
     ]
    }
   ],
   "source": [
    "gauss = GaussianNB()\n",
    "gauss.fit(X_train_scale, y_train)\n",
    "y_pred = gauss.predict(X_test_scale)\n",
    "GNB = (\"Accuracy:\",accuracy_score(y_test, y_pred))\n",
    "print(GNB)"
   ]
  },
  {
   "cell_type": "markdown",
   "metadata": {},
   "source": [
    "5) Decision Tree"
   ]
  },
  {
   "cell_type": "code",
   "execution_count": 57,
   "metadata": {},
   "outputs": [
    {
     "name": "stdout",
     "output_type": "stream",
     "text": [
      "('Accuracy:', 0.6715141986833055)\n"
     ]
    }
   ],
   "source": [
    "tree = DecisionTreeClassifier(criterion = 'entropy', random_state = 0)\n",
    "tree.fit(X_train_scale, y_train)\n",
    "y_pred = tree.predict(X_test_scale)\n",
    "Decision_Tree = (\"Accuracy:\",accuracy_score(y_test, y_pred))\n",
    "print(Decision_Tree)"
   ]
  },
  {
   "cell_type": "markdown",
   "metadata": {},
   "source": [
    "6) Random Forest"
   ]
  },
  {
   "cell_type": "code",
   "execution_count": 58,
   "metadata": {},
   "outputs": [
    {
     "name": "stdout",
     "output_type": "stream",
     "text": [
      "('Accuracy:', 0.7426550063869509)\n"
     ]
    }
   ],
   "source": [
    "forest = RandomForestClassifier(n_estimators = 10, criterion = 'entropy', random_state = 0)\n",
    "forest.fit(X_train_scale, y_train)\n",
    "y_pred = forest.predict(X_test_scale)\n",
    "Random_Forest = (\"Accuracy:\",accuracy_score(y_test, y_pred))\n",
    "print(Random_Forest)"
   ]
  },
  {
   "cell_type": "markdown",
   "metadata": {},
   "source": [
    "7) Bagging Classifier"
   ]
  },
  {
   "cell_type": "code",
   "execution_count": 59,
   "metadata": {},
   "outputs": [
    {
     "name": "stdout",
     "output_type": "stream",
     "text": [
      "('Accuracy:', 0.7605384690969834)\n"
     ]
    }
   ],
   "source": [
    "bagging = BaggingClassifier(n_estimators=100, max_features=10, max_samples=100, random_state=1, n_jobs=5)\n",
    "bagging.fit(X_train_scale, y_train)\n",
    "y_pred = bagging.predict(X_test_scale)\n",
    "Bagging_Classifier = (\"Accuracy:\",accuracy_score(y_test, y_pred))\n",
    "print(Bagging_Classifier)"
   ]
  },
  {
   "cell_type": "markdown",
   "metadata": {},
   "source": [
    "8) Adaboost"
   ]
  },
  {
   "cell_type": "code",
   "execution_count": 60,
   "metadata": {},
   "outputs": [
    {
     "name": "stdout",
     "output_type": "stream",
     "text": [
      "('Accuracy:', 0.7606367298811044)\n"
     ]
    }
   ],
   "source": [
    "adaboost_model = AdaBoostClassifier(random_state=1)\n",
    "adaboost_model.fit(X_train_scale, y_train)\n",
    "y_pred = adaboost_model.predict(X_test_scale)\n",
    "Adaboost_Classifier = (\"Accuracy:\",accuracy_score(y_test, y_pred))\n",
    "print(Adaboost_Classifier)"
   ]
  },
  {
   "cell_type": "markdown",
   "metadata": {},
   "source": [
    "9) Gradient Boosting"
   ]
  },
  {
   "cell_type": "code",
   "execution_count": 61,
   "metadata": {},
   "outputs": [
    {
     "data": {
      "application/javascript": [
       "\n",
       "        if (window._pyforest_update_imports_cell) { window._pyforest_update_imports_cell('from sklearn.ensemble import GradientBoostingClassifier'); }\n",
       "    "
      ],
      "text/plain": [
       "<IPython.core.display.Javascript object>"
      ]
     },
     "metadata": {},
     "output_type": "display_data"
    },
    {
     "name": "stdout",
     "output_type": "stream",
     "text": [
      "('Accuracy:', 0.7605384690969834)\n"
     ]
    }
   ],
   "source": [
    "gradient_boosting = GradientBoostingClassifier(loss='deviance', random_state=2, verbose=0,\n",
    "                                    n_estimators=50, max_depth=7,\n",
    "                                    min_samples_leaf=1, min_samples_split=8)\n",
    "gradient_boosting.fit(X_train_scale, y_train)\n",
    "y_pred = gradient_boosting.predict(X_test_scale)\n",
    "Gradient_Boosting = (\"Accuracy:\",accuracy_score(y_test, y_pred))\n",
    "print(Gradient_Boosting)"
   ]
  },
  {
   "cell_type": "markdown",
   "metadata": {},
   "source": [
    "# All Model Accuracy"
   ]
  },
  {
   "cell_type": "code",
   "execution_count": 62,
   "metadata": {},
   "outputs": [
    {
     "name": "stdout",
     "output_type": "stream",
     "text": [
      "Logistic Regression: ('Accuracy:', 0.7605384690969834)\n",
      "\n",
      "KNN: ('Accuracy:', 0.7124889456617863)\n",
      "\n",
      "SVM: ('Accuracy:', 0.7605384690969834)\n",
      "\n",
      "GNB: ('Accuracy:', 0.7098359044905178)\n",
      "\n",
      "Decision Tree: ('Accuracy:', 0.6715141986833055)\n",
      "\n",
      "Random Forest: ('Accuracy:', 0.7426550063869509)\n",
      "\n",
      "Bagging Classifier: ('Accuracy:', 0.7605384690969834)\n",
      "\n",
      "Adaboost: ('Accuracy:', 0.7606367298811044)\n",
      "\n",
      "GradientBoosting: ('Accuracy:', 0.7605384690969834)\n",
      "\n"
     ]
    }
   ],
   "source": [
    "\n",
    "#Logistic Regression\n",
    "print(\"Logistic Regression:\", Logistic_Regression)\n",
    "print()\n",
    "\n",
    "#KNN Classifier\n",
    "print(\"KNN:\",KNN)\n",
    "print()\n",
    "\n",
    "#SVM\n",
    "print('SVM:', SVM)\n",
    "print()\n",
    "\n",
    "#GNB\n",
    "print(\"GNB:\", GNB)\n",
    "print()\n",
    "\n",
    "#Decision Tree\n",
    "print(\"Decision Tree:\", Decision_Tree)\n",
    "print()\n",
    "\n",
    "#Random Forest\n",
    "print(\"Random Forest:\", Random_Forest)\n",
    "print()\n",
    "\n",
    "#Bagging Classifier\n",
    "print(\"Bagging Classifier:\", Bagging_Classifier)\n",
    "print()\n",
    "\n",
    "#Random Forest\n",
    "print(\"Adaboost:\", Adaboost_Classifier)\n",
    "print()\n",
    "\n",
    "#Random Forest\n",
    "print(\"GradientBoosting:\", Gradient_Boosting)\n",
    "print()\n"
   ]
  },
  {
   "cell_type": "markdown",
   "metadata": {},
   "source": [
    "It seems that 'SVM Classifier' has the best accuracy score. So I am going to use this model on submission.csv"
   ]
  },
  {
   "cell_type": "markdown",
   "metadata": {},
   "source": [
    "# Submitting Solution"
   ]
  },
  {
   "cell_type": "code",
   "execution_count": 63,
   "metadata": {},
   "outputs": [],
   "source": [
    "df_train_conv = sc.fit_transform(df_train.drop(['Response'], axis = 1))\n",
    "df_test_conv = df_test.drop(['ID'],axis = 1)"
   ]
  },
  {
   "cell_type": "code",
   "execution_count": 64,
   "metadata": {},
   "outputs": [],
   "source": [
    "svcclf = SVC(gamma=50)\n",
    "SVC_fit = svcclf.fit(df_train_conv, df_train['Response'])"
   ]
  },
  {
   "cell_type": "code",
   "execution_count": 65,
   "metadata": {},
   "outputs": [],
   "source": [
    "df_test['Response'] = svcclf.predict(df_test_conv)"
   ]
  },
  {
   "cell_type": "code",
   "execution_count": 66,
   "metadata": {},
   "outputs": [],
   "source": [
    "submission = df_test[['ID', 'Response']]"
   ]
  },
  {
   "cell_type": "code",
   "execution_count": 67,
   "metadata": {},
   "outputs": [],
   "source": [
    "submission.to_csv('Job_A-Thon Final Submission.csv', index = False)"
   ]
  }
 ],
 "metadata": {
  "kernelspec": {
   "display_name": "Python 3",
   "language": "python",
   "name": "python3"
  },
  "language_info": {
   "codemirror_mode": {
    "name": "ipython",
    "version": 3
   },
   "file_extension": ".py",
   "mimetype": "text/x-python",
   "name": "python",
   "nbconvert_exporter": "python",
   "pygments_lexer": "ipython3",
   "version": "3.7.4"
  }
 },
 "nbformat": 4,
 "nbformat_minor": 2
}
